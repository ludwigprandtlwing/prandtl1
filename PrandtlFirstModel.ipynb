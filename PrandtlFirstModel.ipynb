{
 "cells": [
  {
   "cell_type": "markdown",
   "metadata": {},
   "source": [
    "# Prandtl wing concept model analysis\n",
    "\n",
    "A small uncontrolled glider was manufactured to rapidly assess the feasibility of the Prandtl investigation.\n",
    "\n",
    "This notebook analyzes the model and uses the flight test data to perform some rudimentary system identification on the aircraft using the very basic measurements made.\n",
    "\n",
    "# Prandtl wing parameters\n",
    "\n",
    "All the parameters for the analysis of the aircraft are presented here.\n",
    "\n",
    "The aircraft moment coefficient is non-dimensionalized by means of the mean aerodynamic chord (MAC).  The MAC is used as a reference for lack of a better definition.  The MAC does not particularly make sense for the Prandtl lift distribution.\n",
    "\n",
    "## Definitions\n",
    "\n",
    "The taper ratio is defined as tip chord divided by root chord:\n",
    "\n",
    "$$\\lambda = \\frac{c_t}{c_r}$$\n",
    "\n",
    "Then mean aerodynamic chord (MAC) is for a linearly tapered wing:\n",
    "\n",
    "$$c_{MAC} = \\frac{2c_r}{3}\\frac{1 + \\lambda + \\lambda^2}{1 + \\lambda}$$\n",
    "\n",
    "## Aerodynamic analysis\n",
    "\n",
    "The Prandtl wing was analyzed using AVL.  The results are presented here:\n",
    "\n",
    "<img src=\"files/pictures/AVL1.png\">\n",
    "<img src=\"files/pictures/AVL2.png\">\n",
    "\n",
    "## Measurements during flight test\n",
    "\n",
    "There were some measurements taken during flight tests.  These measurements are also documented here.  Here is a photograph of the aircraft being launched from the flight test flight (20180727_095517.mp4).  It shows the aircraft being launched from the 5 metre height.\n",
    "\n",
    "<img src=\"files/pictures/LaunchPrandtlFlightTest.jpg\">"
   ]
  },
  {
   "cell_type": "code",
   "execution_count": 1,
   "metadata": {},
   "outputs": [
    {
     "name": "stdout",
     "output_type": "stream",
     "text": [
      "Design trim speed is 12.9km/h\n",
      "Design trim speed is 3.6m/s\n",
      "Design stall speed is 9.5km/h\n"
     ]
    }
   ],
   "source": [
    "# Prandtl wing design and analysis notebook\n",
    "# Aircraft parameters\n",
    "\n",
    "# Geometric parameters\n",
    "b = 1.5 # [m] wingspan\n",
    "cr = 0.160 # [m] root chord\n",
    "ct = 0.040 # [m] tip chord\n",
    "LEsweep = 24 # [degrees] leading edge sweep\n",
    "\n",
    "# Inertial parameters\n",
    "m = 0.059 # [kg] Aircraft mass:  payload + structural mass\n",
    "CG = cr - 0.020 # [m] behind leading edge at centre line of the aircraft\n",
    "\n",
    "# Aerodynamic parameters\n",
    "CL = 0.6 # Design lift coefficient of 3D wing\n",
    "CLstall = 1.1 # Stall lift coefficient of 3D wing, using full extent of high lift devices\n",
    "# The following aerodynamic data is obtained from AVL analysis\n",
    "# Need to check where the reference for the zero angle of attack actually\n",
    "# was taken.  Not sure at what angle it was set up in AVL.\n",
    "# Alpha might have been set up with the root chord as zero angle.\n",
    "# NEED TO CHECK\n",
    "CL0 = 0.643 # [] Lift coefficient at zero angle of attack of the aircraft\n",
    "CLa = 5.112 # [/rad] Lift coefficient slope\n",
    "\n",
    "CM0 = 0.0028 # CM0 is positive for a tailless aircraft and this is achieved through reflexed airfoils\n",
    "CD0 = 0.00 # Minimum drag.  This is to be estimated for the aircraft in the drag budget below and must be verified with flight test.\n",
    "peff = 0.8*0.8889 # Prandtl efficiency factor.  100% efficiency is 0.8889.  This needs to be estimated.\n",
    "# Assume 80% Prandtl efficiency since the aircraft was CNC machined and should\n",
    "# be quite close to the Prandtl geometry.\n",
    "\n",
    "# Derived parameters\n",
    "# Geometric derived parameters\n",
    "tr = ct/cr # [] taper ratio\n",
    "s = b/2 # [m] semispan of wing\n",
    "S = (s*(cr + ct)/2)*2 # [m^2] area of wing is double the trapezoid area of semispan\n",
    "MAC = (2/3)*cr*(1 + tr + tr**2)/(1 + tr)\n",
    "\n",
    "AR = b**2/S\n",
    "\n",
    "# Atmospheric conditions\n",
    "rho = 1 # [kg/m^3] Density of air\n",
    "\n",
    "# Performance parameters\n",
    "V = ((m*9.81)/(0.5*rho*S*CL))**0.5 # [m/s] Design cruise speed\n",
    "print('Design trim speed is ' + '{:.1f}'.format(V*3.6) + 'km/h')\n",
    "print('Design trim speed is ' + '{:.1f}'.format(V) + 'm/s')\n",
    "Vstall = ((m*9.81)/(0.5*rho*S*CLstall))**0.5 # [m/s] Design cruise speed\n",
    "print('Design stall speed is ' + '{:.1f}'.format(Vstall*3.6) + 'km/h')"
   ]
  },
  {
   "cell_type": "code",
   "execution_count": 2,
   "metadata": {},
   "outputs": [],
   "source": [
    "# Flight test measurements\n",
    "\n",
    "# Measurements during video:  20180727_095517.mp4\n",
    "FlightStartTime = 7 # [seconds] after start of video\n",
    "FlightEndTime = 14 # [seconds] after start of video\n",
    "FlightDuration = FlightEndTime - FlightStartTime # [seconds] duration of flight\n",
    "\n",
    "FlightDistance = 33 # [metres] on ground\n",
    "LaunchHeight = 5 # [metres] from ground\n",
    "\n",
    "Vhmeasured = FlightDistance/FlightDuration # [m/s] ground speed\n",
    "Vsmeasured = LaunchHeight/FlightDuration # [m/s] ground speed\n",
    "\n",
    "# The CG was moved AFT until the aircraft became unstable after launch.\n",
    "# This measurement is crude, but should be reasonably accurate.\n",
    "NPmeasured = cr - 0.010 # [m] behind leading edge at centre line of the aircraft"
   ]
  },
  {
   "cell_type": "code",
   "execution_count": 3,
   "metadata": {},
   "outputs": [],
   "source": [
    "# All modules imported\n",
    "from math import pi\n",
    "import matplotlib.pyplot as plt\n",
    "import sympy"
   ]
  },
  {
   "cell_type": "markdown",
   "metadata": {},
   "source": [
    "# Drag budget of the aircraft\n",
    "\n",
    "The drag is estimated using analytical methods.\n",
    "\n",
    "The drag coefficient is calculated using the wing planform area $S$.\n",
    "\n",
    "Therefore the drag coefficient is defined using the following equation:\n",
    "\n",
    "$$D = \\frac{1}{2} \\rho V^2 S C_D$$\n",
    "\n",
    "where\n",
    "\n",
    "$$C_D = C_{D0} + \\frac{C_L^2}{\\pi A p}$$"
   ]
  },
  {
   "cell_type": "code",
   "execution_count": 4,
   "metadata": {},
   "outputs": [],
   "source": [
    "# Note:  The drag is non-dimensionalized using wing planform area.\n",
    "CD0 = 0.12 # Conservative estimate for drag"
   ]
  },
  {
   "cell_type": "markdown",
   "metadata": {},
   "source": [
    "# Spanwise lift distribution\n",
    "\n",
    "The spanwise lift distribution is plotted here and integrated to check that it gets the answer of the design lift coefficient."
   ]
  },
  {
   "cell_type": "code",
   "execution_count": 5,
   "metadata": {},
   "outputs": [
    {
     "data": {
      "text/plain": [
       "Text(0.5,0,'Semispan position [m]')"
      ]
     },
     "execution_count": 5,
     "metadata": {},
     "output_type": "execute_result"
    },
    {
     "data": {
      "image/png": "[encoded data removed]",
      "text/plain": [
       "<Figure size 432x288 with 1 Axes>"
      ]
     },
     "metadata": {},
     "output_type": "display_data"
    }
   ],
   "source": [
    "# Plot spanwise lift distribution\n",
    "\n",
    "points = 100\n",
    "yp = range(0, points + 1)\n",
    "y = [(i*b/2)/points for i in yp]\n",
    "g = [(32/(3*pi*AR))*CL*(1 - yi**2/(s**2))*((s**2 - yi**2)**0.5) for yi in y]\n",
    "plt.plot(y, g)\n",
    "plt.ylabel('Local lift coefficient')\n",
    "plt.xlabel('Semispan position [m]')"
   ]
  },
  {
   "cell_type": "markdown",
   "metadata": {},
   "source": [
    "The integral of the above Prandtl lift distribution must yield back the design lift coefficient.\n",
    "\n",
    "Use symbolic python to integrate the equation.\n",
    "\n",
    "The lift coefficient of the whole wing integrated is:\n",
    "\n",
    "$$C_L = 2 \\times \\frac{\\int_0^s \\gamma_s(y) dy}{S}$$ \n",
    "\n",
    "where $\\gamma_s$ is the lift coefficient for the 2D wing section"
   ]
  },
  {
   "cell_type": "code",
   "execution_count": 6,
   "metadata": {},
   "outputs": [
    {
     "name": "stdout",
     "output_type": "stream",
     "text": [
      "Check the lift coefficient is the same for the whole wing when integrated:\n",
      "0.600000000000000\n",
      "It gives the same as the design lift coefficient so equations were entered correctly.\n"
     ]
    }
   ],
   "source": [
    "ysym = sympy.symbols('ysym')\n",
    "\n",
    "prandtl = (32/(3*pi*AR))*CL*(1 - ysym**2/(s**2))*((s**2 - ysym**2)**0.5)\n",
    "\n",
    "print('Check the lift coefficient is the same for the whole wing when integrated:')\n",
    "print(sympy.integrate((2/S)*prandtl, (ysym, 0, s)))\n",
    "print('It gives the same as the design lift coefficient so equations were entered correctly.')"
   ]
  },
  {
   "cell_type": "code",
   "execution_count": 7,
   "metadata": {},
   "outputs": [
    {
     "data": {
      "image/png": "[encoded data removed]",
      "text/plain": [
       "<Figure size 432x288 with 1 Axes>"
      ]
     },
     "metadata": {},
     "output_type": "display_data"
    },
    {
     "data": {
      "text/plain": [
       "<sympy.plotting.plot.Plot at 0xb48b602c>"
      ]
     },
     "execution_count": 7,
     "metadata": {},
     "output_type": "execute_result"
    }
   ],
   "source": [
    "# Use sympy to plot the lift distribution spanwise as a check:\n",
    "# It gives the same answer so that is OK.\n",
    "t = sympy.symbols('t')\n",
    "x = 0.05*t + 0.2/((t - 5)**2 + 2)\n",
    "sympy.plotting.plot(prandtl)"
   ]
  },
  {
   "cell_type": "markdown",
   "metadata": {},
   "source": [
    "# Bending moment at root\n",
    "\n",
    "The lift coefficient for half the wing span is:\n",
    "\n",
    "$$C_L = \\frac{\\int_0^s \\gamma_s(y) dy}{S}$$ \n",
    "\n",
    "therefore the lift force for half the wing is:\n",
    "\n",
    "$$L_{0.5} = \\frac{1}{2} \\rho V^2 S \\frac{\\int_0^s \\gamma_s(y) dy}{S}$$ \n",
    "$$L_{0.5} = \\frac{1}{2} \\rho V^2 \\int_0^s \\gamma_s(y) dy$$ \n",
    "\n",
    "Now the bending moment at the root of the wing can be calculated as:\n",
    "\n",
    "$$BM = \\frac{1}{2} \\rho V^2 \\int_0^s \\gamma_s(y) y dy$$ "
   ]
  },
  {
   "cell_type": "code",
   "execution_count": 8,
   "metadata": {},
   "outputs": [],
   "source": [
    "# Calculate the wing root bending moment by evaluating the above integral:\n",
    "BM = sympy.integrate((1/2)*rho*(V**2)*prandtl*ysym, (ysym, 0, s))"
   ]
  },
  {
   "cell_type": "code",
   "execution_count": 9,
   "metadata": {},
   "outputs": [
    {
     "name": "stdout",
     "output_type": "stream",
     "text": [
      "The root bending moment is 0.074N.m\n",
      "The equivalent moment arm is 0.255m\n",
      "or 34.0% semispan\n"
     ]
    }
   ],
   "source": [
    "# Print the bending moment result:\n",
    "print('The root bending moment is ' + '{:.3f}'.format(BM) + 'N.m')\n",
    "print('The equivalent moment arm is ' + '{:.3f}'.format(BM/((m/2)*9.81)) + 'm')\n",
    "print('or ' + '{:.1f}'.format(100*(BM/((m/2)*9.81))/s) + '% semispan')"
   ]
  },
  {
   "cell_type": "markdown",
   "metadata": {},
   "source": [
    "# Neutral point calculation\n",
    "\n",
    "The neutral point is the point where the moment is independant of angle of attack.  \n",
    "\n",
    "- It is assumed that all sections of the airfoils have a zero moment coefficient in order to simplify the calculation.  \n",
    "- The centre of pressure of each airfoil is assumed to be at 25% chord.\n",
    "\n",
    "Also plot the $C_M$ versus $\\alpha$ curve in the linear region.\n",
    "\n",
    "It should be checked with CFD whether the wing has positive moment with high $\\alpha$.  This is typical of tailless aircraft and leads to nose-up stall behaviour which is highly undesirable.  It needs to be investigated whether this can be changed with aerodynamics if possible if the aircraft does turn out to behave like that.\n",
    "\n",
    "First plot the quarter chord as a distance from the leading edge at the centre line.\n",
    "Take the leading edge at the centre line of the aircraft as the moment reference point.  Take moments about this point.\n",
    "\n",
    "The lift of the Prandtl distribution is:\n",
    "\n",
    "$$L = \\frac{1}{2} \\rho V^2 S \\frac{\\int_{-s}^s \\gamma_s(y) dy}{S}$$ \n",
    "\n",
    "Therefore moments about this point is:\n",
    "\n",
    "$$M_{centre LE} = \\frac{1}{2} \\rho V^2 S \\frac{\\int_{-s}^s \\gamma_s(y) c_{0.25}(y) dy}{S}$$ \n",
    "\n",
    "The neutral point can now be calculated as the moment divided by the lift to get the moment arm:\n",
    "\n",
    "$$NP = \\frac{M_{centre LE}}{L} $$\n",
    "\n",
    "or with the necessary substitutions:\n",
    "\n",
    "$$NP = \\frac{\\int_{-s}^s \\gamma_s(y) c_{0.25}(y) dy}{\\int_{-s}^s \\gamma_s(y) dy} $$\n",
    "\n"
   ]
  },
  {
   "cell_type": "code",
   "execution_count": 10,
   "metadata": {},
   "outputs": [
    {
     "data": {
      "image/png": "[encoded data removed]",
      "text/plain": [
       "<Figure size 432x288 with 1 Axes>"
      ]
     },
     "metadata": {},
     "output_type": "display_data"
    },
    {
     "data": {
      "text/plain": [
       "<sympy.plotting.plot.Plot at 0xabb8030c>"
      ]
     },
     "execution_count": 10,
     "metadata": {},
     "output_type": "execute_result"
    }
   ],
   "source": [
    "# Use sympy to plot the lift distribution spanwise as a check:\n",
    "# It gives the same answer so that is OK.\n",
    "t = sympy.symbols('t')\n",
    "x = 0.05*t + 0.2/((t - 5)**2 + 2)\n",
    "#sympy.plotting.plot(sympy.abs(ysym)*sympy.tan(LEsweep*pi/180) + 0.25*chord)\n",
    "chord = (ct - cr)/s * sympy.functions.Abs(ysym) + cr\n",
    "LEmomArm = sympy.functions.Abs(ysym)*sympy.tan(LEsweep*pi/180) + 0.25*chord\n",
    "sympy.plotting.plot(LEmomArm)"
   ]
  },
  {
   "cell_type": "code",
   "execution_count": 11,
   "metadata": {},
   "outputs": [],
   "source": [
    "# Integrate the equations in order to calculate the neutral point\n",
    "forceNP = sympy.integrate(prandtl, (ysym, -s, s))\n",
    "momentNP = sympy.integrate(prandtl*LEmomArm, (ysym, -s, s))"
   ]
  },
  {
   "cell_type": "code",
   "execution_count": 12,
   "metadata": {},
   "outputs": [
    {
     "name": "stdout",
     "output_type": "stream",
     "text": [
      "The neutral point is 0.143m aft of the leading edge at centre span.\n",
      "This is 89.5% of root chord\n",
      "The CG is 0.003m forward of the neutral point.\n",
      "This is 2.0% of root chord forward of neutral point.\n",
      "This is 2.8% of mean aerodynamic chord forward of neutral point.\n",
      "\n",
      "\n",
      "The CG is 0.010m forward of the measured neutral point.\n",
      "This is 6.2% of root chord forward of the measured neutral point.\n",
      "This is 8.9% of mean aerodynamic chord forward of the measured neutral point.\n"
     ]
    }
   ],
   "source": [
    "NP = momentNP/forceNP\n",
    "print('The neutral point is ' + '{:.3f}'.format(NP) + 'm aft of the leading edge at centre span.')\n",
    "print('This is ' + '{:.1f}'.format(100*NP/cr) + '% of root chord')\n",
    "\n",
    "# Now calculate the static margin\n",
    "print('The CG is ' + '{:.3f}'.format(NP - CG) + 'm forward of the neutral point.')\n",
    "print('This is ' + '{:.1f}'.format(100*(NP - CG)/cr) + '% of root chord forward of neutral point.')\n",
    "SM = (NP - CG)/MAC\n",
    "print('This is ' + '{:.1f}'.format(100*SM) + '% of mean aerodynamic chord forward of neutral point.')\n",
    "\n",
    "# Compare the calculation to the flight test measurement\n",
    "# The advantage with model flight is that the neutral point can be iteratively \n",
    "# determined with no safety impact\n",
    "print('\\n')\n",
    "print('The CG is ' + '{:.3f}'.format(NPmeasured - CG) + 'm forward of the measured neutral point.')\n",
    "print('This is ' + '{:.1f}'.format(100*(NPmeasured - CG)/cr) + '% of root chord forward of the measured neutral point.')\n",
    "SMmeasured = (NPmeasured - CG)/MAC\n",
    "print('This is ' + '{:.1f}'.format(100*SMmeasured) + '% of mean aerodynamic chord forward of the measured neutral point.')\n",
    "\n"
   ]
  },
  {
   "cell_type": "markdown",
   "metadata": {},
   "source": [
    "Calculate the $C_{M_\\alpha}$ value with the neutral point and the lift curve slope.\n",
    "\n",
    "Because\n",
    "\n",
    "$$SM = -\\frac{\\partial C_M}{\\partial C_L}$$\n",
    "\n",
    "$$SM = -\\frac{\\frac{\\partial C_M}{\\partial \\alpha}}{\\frac{\\partial C_L}{\\partial \\alpha}}$$\n",
    "\n",
    "$$\\frac{\\partial C_M}{\\partial \\alpha} = -SM \\cdot \\frac{\\partial C_L}{\\partial \\alpha}$$"
   ]
  },
  {
   "cell_type": "code",
   "execution_count": 13,
   "metadata": {},
   "outputs": [
    {
     "name": "stdout",
     "output_type": "stream",
     "text": [
      "dCM/dalpha = -0.1\n"
     ]
    }
   ],
   "source": [
    "CMa = -SM*CLa\n",
    "print('dCM/dalpha = ' + '{:.1f}'.format(CMa))"
   ]
  },
  {
   "cell_type": "markdown",
   "metadata": {},
   "source": [
    "# Performance calculations\n",
    "\n",
    "\n",
    "## Glider performance calculations\n",
    "\n",
    "The sink speed curve is plotted here.  This determines the performance of the aircraft.  The minimum L/D is calculated here for maximum glide slope and the minimum sink rate for maximum loiter time.\n",
    "\n",
    "\n",
    "<img src=\"files/pictures/AircraftFBD.png\">\n",
    "\n",
    "In order to calculate the sink plot polar, choose a true airspeed to analyze for and perform all the following calculations.  Then repeat for a selection of true airspeed values and plot the polar.\n",
    "\n",
    "The aerodynamic moment is calculated as:\n",
    "\n",
    "$$M = \\frac{1}{2}\\rho V^2 S c_{MAC} C_{M_\\alpha} \\cdot \\alpha$$\n",
    "\n",
    "x is the static margin in metres.  Now taking moments about the neutral point of the aircraft, for the aircraft to be in trim, the moments must sum to zero.\n",
    "\n",
    "$$ \\sum M_{ac} = 0$$\n",
    "\n",
    "$$ M_{ac} + mgx = 0$$\n",
    "\n",
    "Now substituting:\n",
    "\n",
    "$$ \\frac{1}{2}\\rho V^2 S c_{MAC} C_{M_\\alpha} \\cdot \\alpha + mgx = 0$$\n",
    "\n",
    "\n",
    "<img src=\"files/pictures/CMalphaAircraft.png\">\n",
    "\n",
    "and rearranging, we can obtain the trim angle of attack $\\alpha$:\n",
    "\n",
    "$$\\alpha = \\frac{-mgx}{\\frac{1}{2}\\rho V^2 S c_{MAC} C_{M_\\alpha}}$$\n",
    "\n",
    "Now calculate the aerodynamic lift and drag coefficients:\n",
    "\n",
    "$$C_L = C_{L \\alpha} \\cdot \\alpha + C_{L0}$$\n",
    "\n",
    "$$C_D = C_{D0} + \\frac{C_L^2}{\\pi A p}$$\n",
    "\n",
    "where A is the Aspect Ratio of the aircraft and p is the Prandtl efficiency factor 0.8889 according to NASA/TP—2016–219072.\n",
    "\n",
    "Now the lift to drag ratio can be calculated as:\n",
    "\n",
    "$$\\frac{L}{D} = \\frac{C_L}{C_D}$$\n",
    "\n",
    "The lift to drag ratio can be used to calculate the sink speed and the ground speed because of the following relationship:\n",
    "\n",
    "$$\\frac{L}{D} = \\frac{Distance}{Height} = \\frac{V_H \\cdot t}{V_S \\cdot t} = \\frac{V_H}{V_S}$$\n",
    "\n",
    "meaning the lift to drag ratio is equal to the ratio of the ground distance travelled to the change in height to the ground.  Where t is time travelled.\n",
    "\n",
    "therefore the lift to drag ratio is equal to the ratio of ground speed $V_H$ to sink speed $V_S$\n",
    "\n",
    "$$\\frac{L}{D} = \\frac{V_H}{V_S}$$\n",
    "\n",
    "Now \n",
    "\n",
    "$$V_H = V_S \\cdot \\frac{L}{D}$$\n",
    "\n",
    "And when the lift and drag use the same reference area (wing planform area) then this can be rewritten as:\n",
    "\n",
    "$$V_H = V_S \\cdot \\frac{C_L}{C_D}$$\n",
    "\n",
    "True airspeed V is:\n",
    "\n",
    "$$V = \\sqrt{V_H^2 + V_S^2}$$\n",
    "\n",
    "Substituting for $V_H$, we can calculate sink speed from the chosen true airspeed.\n",
    "\n",
    "$$V = \\sqrt{\\bigg(V_S \\cdot \\frac{C_L}{C_D}\\bigg)^2 + V_S^2}$$\n",
    "\n",
    "$$V^2 = \\bigg(1 + \\bigg(\\frac{C_L}{C_D}\\bigg)^2\\bigg)V_S^2$$\n",
    "\n",
    "$$V_S = \\sqrt{\\frac{V^2}{\\bigg(1 + \\bigg(\\frac{C_L}{C_D}\\bigg)^2\\bigg)}}$$\n",
    "\n",
    "and now $V_H$ can be calculated with a previous equation.\n",
    "\n",
    "## Powered flight range and loiter time\n",
    "\n",
    "Calculate the range and loiter time using battery powered flight."
   ]
  },
  {
   "cell_type": "code",
   "execution_count": 15,
   "metadata": {},
   "outputs": [
    {
     "name": "stdout",
     "output_type": "stream",
     "text": [
      "The maximum L/D is 8.3\n",
      "The minimum sink rate is -0.3m/s\n"
     ]
    },
    {
     "data": {
      "image/png": "[encoded data removed]",
      "text/plain": [
       "<Figure size 432x288 with 1 Axes>"
      ]
     },
     "metadata": {},
     "output_type": "display_data"
    },
    {
     "data": {
      "image/png": "[encoded data removed]",
      "text/plain": [
       "<Figure size 432x288 with 1 Axes>"
      ]
     },
     "metadata": {},
     "output_type": "display_data"
    }
   ],
   "source": [
    "# Now calculate the moment curve of the aircraft\n",
    "# CM0 is positive for a tailless aircraft and this is achieved through reflexed airfoils\n",
    "\n",
    "points = 100\n",
    "Vtrue = range(0, points + 1)\n",
    "Vtrue = [Vstall+V*2*speed/points for speed in Vtrue]\n",
    "\n",
    "\n",
    "momarm = (NP - CG) # [m] Distance from CG to neutral point.\n",
    "trimalpha = [-m*9.81*momarm/(0.5*rho*speed**2*S*MAC*CMa) for speed in Vtrue] # [rad] vector of trim angle of attack for range of true airspeed values.\n",
    "trimCL = [CLa*talpha + CL0 for talpha in trimalpha] # [] vector of trim CL for range of true airspeed values.\n",
    "trimCD = [CD0 + tCL**2/(pi*AR*peff) for tCL in trimCL] # [] vector of trim CD for range of true airspeed values.\n",
    "\n",
    "LOD = [tCL/tCD for tCL, tCD in zip(trimCL, trimCD)] # [] L/D ratio for trim speed vector.\n",
    "\n",
    "VS = [(speed**2/(1 + LoverD**2))**0.5 for LoverD, speed in zip(LOD, Vtrue)] # [m/s] Sink speed for trim speed vector.\n",
    "VH = [sinkspeed*LoverD for LoverD, sinkspeed in zip(LOD, VS)]# [m/s] Ground speed for trim speed vector.\n",
    "VS = [-speed for speed in VS] # [m/s] make sink speed negative to plot it correctly.\n",
    "\n",
    "figure = plt.figure(1)\n",
    "plt.plot(VH, VS)\n",
    "plt.plot(Vhmeasured, -Vsmeasured, 'o')\n",
    "plt.ylabel('Sink speed [m/s]')\n",
    "plt.xlabel('Ground speed [m/s]')\n",
    "plt.legend(['Sink speed polar', 'Flight test point'])\n",
    "figure.savefig('SinkPolar.png')\n",
    "\n",
    "plt.figure(2)\n",
    "plt.plot(VH, LOD)\n",
    "plt.ylabel('L/D ratio []')\n",
    "plt.xlabel('Ground speed [m/s]')\n",
    "\n",
    "print('The maximum L/D is ' + '{:.1f}'.format(max(LOD)))\n",
    "print('The minimum sink rate is ' + '{:.1f}'.format(max(VS)) + 'm/s')"
   ]
  },
  {
   "cell_type": "markdown",
   "metadata": {},
   "source": [
    "# Actual drag measurement calculation\n",
    "\n",
    "The actual drag is calculated with some assumptions\n",
    "\n",
    "- The Prandtl efficiency is taken as 80%\n",
    "- It is assumed that the lift curve is as calculated with AVL (Athena Vortex Lattice Method)\n",
    "\n",
    "The $C_{D0}$ was varied iteratively until the flight point co-incided with the sink speed polar of the aircraft.\n",
    "\n",
    "It may be concluded that the aircraft has very high drag.  This may be attributed to the crude fuselage (blunt shape and rough surface finish) and the rough surface finish of the polystyrene wings."
   ]
  },
  {
   "cell_type": "code",
   "execution_count": null,
   "metadata": {},
   "outputs": [],
   "source": []
  }
 ],
 "metadata": {
  "hide_input": false,
  "kernelspec": {
   "display_name": "Python 3",
   "language": "python",
   "name": "python3"
  },
  "language_info": {
   "codemirror_mode": {
    "name": "ipython",
    "version": 3
   },
   "file_extension": ".py",
   "mimetype": "text/x-python",
   "name": "python",
   "nbconvert_exporter": "python",
   "pygments_lexer": "ipython3",
   "version": "3.6.3"
  },
  "toc": {
   "base_numbering": 1,
   "nav_menu": {},
   "number_sections": true,
   "sideBar": true,
   "skip_h1_title": false,
   "title_cell": "Table of Contents",
   "title_sidebar": "Contents",
   "toc_cell": false,
   "toc_position": {
    "height": "calc(100% - 180px)",
    "left": "10px",
    "top": "150px",
    "width": "204.8px"
   },
   "toc_section_display": true,
   "toc_window_display": true
  },
  "varInspector": {
   "cols": {
    "lenName": 16,
    "lenType": 16,
    "lenVar": 40
   },
   "kernels_config": {
    "python": {
     "delete_cmd_postfix": "",
     "delete_cmd_prefix": "del ",
     "library": "var_list.py",
     "varRefreshCmd": "print(var_dic_list())"
    },
    "r": {
     "delete_cmd_postfix": ") ",
     "delete_cmd_prefix": "rm(",
     "library": "var_list.r",
     "varRefreshCmd": "cat(var_dic_list()) "
    }
   },
   "oldHeight": 406.85,
   "position": {
    "height": "428.85px",
    "left": "613px",
    "right": "61px",
    "top": "90px",
    "width": "350px"
   },
   "types_to_exclude": [
    "module",
    "function",
    "builtin_function_or_method",
    "instance",
    "_Feature"
   ],
   "varInspector_section_display": "block",
   "window_display": false
  }
 },
 "nbformat": 4,
 "nbformat_minor": 2
}
